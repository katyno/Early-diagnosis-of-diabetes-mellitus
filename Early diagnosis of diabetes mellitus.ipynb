{
    "cells": [
        {
            "metadata": {},
            "cell_type": "code",
            "source": "# @hidden_cell\n# The project token is an authorization token that is used to access project resources like data sources, connections, and used by platform APIs.\nfrom project_lib import Project\nproject = Project(project_id='9483661e-d1bf-4c67-abf0-8a2242fd8726', project_access_token='p-e219e2e59702a191100317b37abd572984bb5287')\npc = project.project_context\n",
            "execution_count": 22,
            "outputs": []
        },
        {
            "metadata": {},
            "cell_type": "markdown",
            "source": "# Early diagnosis of diabetes mellitus"
        },
        {
            "metadata": {
                "collapsed": true
            },
            "cell_type": "markdown",
            "source": "November 14, 1991 was proclaimed Diabetes Day to commemorate the fundamental work that has been and is being done around the world to close the gaps in public understanding of the disease. This date was chosen as a sign of respect and memory to the great scientist Frederick Bunting, who was born in 1891 on this day in 1891.\n\nDiabetes mellitus is one of the most common diseases in the world. The disease is dangerous, first of all, uncontrolled hyperglycemia, leading to the development of complications affecting all the most important organs and systems of the body.  \n\nThe peculiarity of this disease is that external signs may not appear for several years after the onset of development. This leads to the fact that the pathology has time to cause significant harm to the body before treatment is started. Therefore, early diagnosis of diabetes is so important. \n\nBut, in many countries, people do not have the opportunity to undergo laboratory blood tests and therefore remain without treatment. Can we diagnose diabetes with a high degree of probability for a number of signs without doing laboratory blood tests? This notebook is designed to answer this question through data analysis. \n\nCase Data is provided by [https://archive.ics.uci.edu/](https://archive.ics.uci.edu/ml/datasets/Early+stage+diabetes+risk+prediction+dataset.)\n\n![alt-text](https://raw.githubusercontent.com/katyno/Early-diagnosis-of-diabetes-mellitus/main/diabetes.jpg \"diabetes\")\n\nSince our question requires an answer - is the patient sick or not (yes / no), then in this case it is possible to use a classification approach based on the feature description. In this study, the attributes characterize the symptoms of diabetes mellitus and are binary (except for age), namely:\n\nAttribute|---|---\n:---|:---|:---\nAge|16-90\nSex|1.Male|2.Female\nPolyuria (excessive or frequent urination)|1.Yes|2.No\nPolydipsia (unnaturally strong, unquenchable thirst)|1.Yes|2.No\nSudden weight loss|1.Yes|2.No\nWeakness|1.Yes|2.No\nPolyphagia (eating disorder, manifested by increased appetite and gluttony)|1.Yes|2.No\nGenital thrush|1.Yes|2.No\nVisual blurring|1.Yes|2.No\nItching|1.Yes|2.No\nIrritability|1.Yes|2.No\nDelayed healing|1.Yes|2.No\nPartial paresis (muscle weakness due to damage to nerve tissue)|1.Yes|2.No\nMuscle stiffness|1.Yes|2.No\nAlopecia (baldness)|1.Yes|2.No\nObesity|1.Yes|2.No\nClass|1.Positive|2.Negative"
        },
        {
            "metadata": {},
            "cell_type": "code",
            "source": "import types\nimport pandas as pd\nfrom botocore.client import Config\nimport ibm_boto3\n\ndef __iter__(self): return 0\n\n# @hidden_cell\n# The following code accesses a file in your IBM Cloud Object Storage. It includes your credentials.\n# You might want to remove those credentials before you share the notebook.\nclient_be2e7e6fed92462cb93d5909c22ea30b = ibm_boto3.client(service_name='s3',\n    ibm_api_key_id='MHzIbHfWJ2DXt4CRYCyVVLA2OGXGK-rwT63BMvBBnrII',\n    ibm_auth_endpoint=\"https://iam.cloud.ibm.com/oidc/token\",\n    config=Config(signature_version='oauth'),\n    endpoint_url='https://s3-api.us-geo.objectstorage.service.networklayer.com')\n\nbody = client_be2e7e6fed92462cb93d5909c22ea30b.get_object(Bucket='datasciencemethodology-donotdelete-pr-7xwfrrfffjvime',Key='diabetes.csv')['Body']\n# add missing __iter__ method, so pandas accepts body as file-like object\nif not hasattr(body, \"__iter__\"): body.__iter__ = types.MethodType( __iter__, body )\n\ndf_data_1 = pd.read_csv(body)\ndf_data_1.head()\n",
            "execution_count": 23,
            "outputs": [
                {
                    "output_type": "execute_result",
                    "execution_count": 23,
                    "data": {
                        "text/plain": "   Age Gender Polyuria Polydipsia Sudden weight loss Weakness Polyphagia  \\\n0   40   Male       No        Yes                 No      Yes         No   \n1   58   Male       No         No                 No      Yes         No   \n2   41   Male      Yes         No                 No      Yes        Yes   \n3   45   Male       No         No                Yes      Yes        Yes   \n4   60   Male      Yes        Yes                Yes      Yes        Yes   \n\n  Genital thrush Visual blurring Itching Irritability Delayed healing  \\\n0             No              No     Yes           No             Yes   \n1             No             Yes      No           No              No   \n2             No              No     Yes           No             Yes   \n3            Yes              No     Yes           No             Yes   \n4             No             Yes     Yes          Yes             Yes   \n\n  Partial paresis Muscle stiffness Alopecia Obesity     Class  \n0              No              Yes      Yes     Yes  Positive  \n1             Yes               No      Yes      No  Positive  \n2              No              Yes      Yes      No  Positive  \n3              No               No       No      No  Positive  \n4             Yes              Yes      Yes     Yes  Positive  ",
                        "text/html": "<div>\n<style scoped>\n    .dataframe tbody tr th:only-of-type {\n        vertical-align: middle;\n    }\n\n    .dataframe tbody tr th {\n        vertical-align: top;\n    }\n\n    .dataframe thead th {\n        text-align: right;\n    }\n</style>\n<table border=\"1\" class=\"dataframe\">\n  <thead>\n    <tr style=\"text-align: right;\">\n      <th></th>\n      <th>Age</th>\n      <th>Gender</th>\n      <th>Polyuria</th>\n      <th>Polydipsia</th>\n      <th>Sudden weight loss</th>\n      <th>Weakness</th>\n      <th>Polyphagia</th>\n      <th>Genital thrush</th>\n      <th>Visual blurring</th>\n      <th>Itching</th>\n      <th>Irritability</th>\n      <th>Delayed healing</th>\n      <th>Partial paresis</th>\n      <th>Muscle stiffness</th>\n      <th>Alopecia</th>\n      <th>Obesity</th>\n      <th>Class</th>\n    </tr>\n  </thead>\n  <tbody>\n    <tr>\n      <th>0</th>\n      <td>40</td>\n      <td>Male</td>\n      <td>No</td>\n      <td>Yes</td>\n      <td>No</td>\n      <td>Yes</td>\n      <td>No</td>\n      <td>No</td>\n      <td>No</td>\n      <td>Yes</td>\n      <td>No</td>\n      <td>Yes</td>\n      <td>No</td>\n      <td>Yes</td>\n      <td>Yes</td>\n      <td>Yes</td>\n      <td>Positive</td>\n    </tr>\n    <tr>\n      <th>1</th>\n      <td>58</td>\n      <td>Male</td>\n      <td>No</td>\n      <td>No</td>\n      <td>No</td>\n      <td>Yes</td>\n      <td>No</td>\n      <td>No</td>\n      <td>Yes</td>\n      <td>No</td>\n      <td>No</td>\n      <td>No</td>\n      <td>Yes</td>\n      <td>No</td>\n      <td>Yes</td>\n      <td>No</td>\n      <td>Positive</td>\n    </tr>\n    <tr>\n      <th>2</th>\n      <td>41</td>\n      <td>Male</td>\n      <td>Yes</td>\n      <td>No</td>\n      <td>No</td>\n      <td>Yes</td>\n      <td>Yes</td>\n      <td>No</td>\n      <td>No</td>\n      <td>Yes</td>\n      <td>No</td>\n      <td>Yes</td>\n      <td>No</td>\n      <td>Yes</td>\n      <td>Yes</td>\n      <td>No</td>\n      <td>Positive</td>\n    </tr>\n    <tr>\n      <th>3</th>\n      <td>45</td>\n      <td>Male</td>\n      <td>No</td>\n      <td>No</td>\n      <td>Yes</td>\n      <td>Yes</td>\n      <td>Yes</td>\n      <td>Yes</td>\n      <td>No</td>\n      <td>Yes</td>\n      <td>No</td>\n      <td>Yes</td>\n      <td>No</td>\n      <td>No</td>\n      <td>No</td>\n      <td>No</td>\n      <td>Positive</td>\n    </tr>\n    <tr>\n      <th>4</th>\n      <td>60</td>\n      <td>Male</td>\n      <td>Yes</td>\n      <td>Yes</td>\n      <td>Yes</td>\n      <td>Yes</td>\n      <td>Yes</td>\n      <td>No</td>\n      <td>Yes</td>\n      <td>Yes</td>\n      <td>Yes</td>\n      <td>Yes</td>\n      <td>Yes</td>\n      <td>Yes</td>\n      <td>Yes</td>\n      <td>Yes</td>\n      <td>Positive</td>\n    </tr>\n  </tbody>\n</table>\n</div>"
                    },
                    "metadata": {}
                }
            ]
        },
        {
            "metadata": {
                "scrolled": false
            },
            "cell_type": "code",
            "source": "print('Project Name: {0}'.format(project.get_name()))\nprint('Project Description: {0}'.format(project.get_description()))\nprint('Projext Bucket Name: {0}'.format(project.get_project_bucket_name()))\nprint('Project Assets (Connections): {0}'.format(project.get_assets(asset_type='connection')))\nprint('Project Files: {0}'.format(project.get_files()))",
            "execution_count": 24,
            "outputs": [
                {
                    "output_type": "stream",
                    "text": "Project Name: Data Science Methodology\nProject Description: This is my Final Assignment on Data Science Methodology\nProjext Bucket Name: datasciencemethodology-donotdelete-pr-7xwfrrfffjvime\nProject Assets (Connections): []\nProject Files: [{'name': 'diabetes.csv', 'asset_id': '98cc1684-52cb-46b7-80ed-8fde8ecbf587'}]\n",
                    "name": "stdout"
                }
            ]
        },
        {
            "metadata": {},
            "cell_type": "markdown",
            "source": "We can find the dimensions of the data set using the panda Dataframes\u2019 \u2018shape\u2019 attribute."
        },
        {
            "metadata": {},
            "cell_type": "code",
            "source": "print(\"Diabetes data set dimensions : {}\".format(df_data_1.shape))",
            "execution_count": 25,
            "outputs": [
                {
                    "output_type": "stream",
                    "text": "Diabetes data set dimensions : (520, 17)\n",
                    "name": "stdout"
                }
            ]
        },
        {
            "metadata": {},
            "cell_type": "markdown",
            "source": "We can notice that the dataset contains 520 rows and 17 columns. \"Class\" is the column that we are going to predict and it indicates whether the patient has diabetes or not. \"Positive\" means that the person is diabetic and \"Negative\" means that the person is not sick. We can determine how many out of 520 people have diabetes, and how many do not."
        },
        {
            "metadata": {
                "scrolled": true
            },
            "cell_type": "code",
            "source": "%matplotlib inline \nimport pandas as pd \nimport numpy as np \nimport matplotlib.pyplot as plt \nimport seaborn as sns\ndf_data_1.columns ",
            "execution_count": 26,
            "outputs": [
                {
                    "output_type": "execute_result",
                    "execution_count": 26,
                    "data": {
                        "text/plain": "Index(['Age', 'Gender', 'Polyuria', 'Polydipsia', 'Sudden weight loss',\n       'Weakness', 'Polyphagia', 'Genital thrush', 'Visual blurring',\n       'Itching', 'Irritability', 'Delayed healing', 'Partial paresis',\n       'Muscle stiffness', 'Alopecia', 'Obesity', 'Class'],\n      dtype='object')"
                    },
                    "metadata": {}
                }
            ]
        },
        {
            "metadata": {},
            "cell_type": "code",
            "source": "df_data_1.groupby('Class').size()",
            "execution_count": 27,
            "outputs": [
                {
                    "output_type": "execute_result",
                    "execution_count": 27,
                    "data": {
                        "text/plain": "Class\nNegative    200\nPositive    320\ndtype: int64"
                    },
                    "metadata": {}
                }
            ]
        },
        {
            "metadata": {},
            "cell_type": "markdown",
            "source": "Now we can see that out of 520 people, 200 are labeled as \"Negative\" (non-diabetics) and 320 as \"Positive\" (diabetics)."
        },
        {
            "metadata": {},
            "cell_type": "markdown",
            "source": "Data visualization is a must-have aspect of data science. This helps to understand the data as well as explain it to another person. Python has some interesting visualization libraries like Matplotlib, Seaborn, etc. "
        },
        {
            "metadata": {},
            "cell_type": "markdown",
            "source": "We can use the following code to draw histograms for the two responses separately. "
        },
        {
            "metadata": {
                "scrolled": true
            },
            "cell_type": "code",
            "source": "df_data_1.groupby('Class').hist(figsize=(10, 10))",
            "execution_count": 28,
            "outputs": [
                {
                    "output_type": "execute_result",
                    "execution_count": 28,
                    "data": {
                        "text/plain": "Class\nNegative    [[AxesSubplot(0.125,0.125;0.775x0.755)]]\nPositive    [[AxesSubplot(0.125,0.125;0.775x0.755)]]\ndtype: object"
                    },
                    "metadata": {}
                },
                {
                    "output_type": "display_data",
                    "data": {
                        "text/plain": "<Figure size 720x720 with 1 Axes>",
                        "image/png": "[encoded data removed]"
                    },
                    "metadata": {
                        "needs_background": "light"
                    }
                },
                {
                    "output_type": "display_data",
                    "data": {
                        "text/plain": "<Figure size 720x720 with 1 Axes>",
                        "image/png": "[encoded data removed]"
                    },
                    "metadata": {
                        "needs_background": "light"
                    }
                }
            ]
        },
        {
            "metadata": {},
            "cell_type": "markdown",
            "source": "We can see that the most at risk are people aged 30-60."
        },
        {
            "metadata": {},
            "cell_type": "markdown",
            "source": "The next phase of the machine learning work flow is data cleaning. Considered to be one of the crucial steps of the workflow, because it can make or break the model. There are several factors to consider in the data cleaning process.\n1. Duplicate or irrelevant observations.\n2. Bad labeling of data, same category occurring multiple times.\n3. Missing or null data points.\n4. Unexpected emissions.\n\nSince we are using a standard data set, we can safely assume that factors 1, 2 are already dealt with. "
        },
        {
            "metadata": {},
            "cell_type": "markdown",
            "source": "Find any missing or null data points in the dataset (if any) we can use the following pandas function."
        },
        {
            "metadata": {
                "scrolled": false
            },
            "cell_type": "code",
            "source": "df_data_1.isnull().sum()",
            "execution_count": 29,
            "outputs": [
                {
                    "output_type": "execute_result",
                    "execution_count": 29,
                    "data": {
                        "text/plain": "Age                   0\nGender                0\nPolyuria              0\nPolydipsia            0\nSudden weight loss    0\nWeakness              0\nPolyphagia            0\nGenital thrush        0\nVisual blurring       0\nItching               0\nIrritability          0\nDelayed healing       0\nPartial paresis       0\nMuscle stiffness      0\nAlopecia              0\nObesity               0\nClass                 0\ndtype: int64"
                    },
                    "metadata": {}
                }
            ]
        },
        {
            "metadata": {},
            "cell_type": "code",
            "source": "df_data_1.isna().sum()",
            "execution_count": 30,
            "outputs": [
                {
                    "output_type": "execute_result",
                    "execution_count": 30,
                    "data": {
                        "text/plain": "Age                   0\nGender                0\nPolyuria              0\nPolydipsia            0\nSudden weight loss    0\nWeakness              0\nPolyphagia            0\nGenital thrush        0\nVisual blurring       0\nItching               0\nIrritability          0\nDelayed healing       0\nPartial paresis       0\nMuscle stiffness      0\nAlopecia              0\nObesity               0\nClass                 0\ndtype: int64"
                    },
                    "metadata": {}
                }
            ]
        },
        {
            "metadata": {},
            "cell_type": "markdown",
            "source": "We can observe that there are no data points missing in the data set."
        },
        {
            "metadata": {},
            "cell_type": "markdown",
            "source": "By analyzing the histogram, we can determine that there are no significant outliers."
        },
        {
            "metadata": {},
            "cell_type": "markdown",
            "source": "Let's check the distribution of data types in the DataFrame."
        },
        {
            "metadata": {},
            "cell_type": "code",
            "source": "df_data_1.dtypes.value_counts()",
            "execution_count": 31,
            "outputs": [
                {
                    "output_type": "execute_result",
                    "execution_count": 31,
                    "data": {
                        "text/plain": "object    16\nint64      1\ndtype: int64"
                    },
                    "metadata": {}
                }
            ]
        },
        {
            "metadata": {},
            "cell_type": "markdown",
            "source": "We can see that out of 17 columns, 16 have data type object. Let's binarize these columns."
        },
        {
            "metadata": {},
            "cell_type": "code",
            "source": "df_data_1['Gender'] = df_data_1['Gender'].apply(lambda x: 1 if x == \"Male\" else 2)\ndf_data_1['Polyuria'] = df_data_1['Polyuria'].apply(lambda x: 1 if x == \"Yes\" else 2)\ndf_data_1['Polydipsia'] = df_data_1['Polydipsia'].apply(lambda x: 1 if x == \"Yes\" else 2)\ndf_data_1['Sudden weight loss'] = df_data_1['Sudden weight loss'].apply(lambda x: 1 if x == \"Yes\" else 2)\ndf_data_1['Weakness'] = df_data_1['Weakness'].apply(lambda x: 1 if x == \"Yes\" else 2)\ndf_data_1['Polyphagia'] = df_data_1['Polyphagia'].apply(lambda x: 1 if x == \"Yes\" else 2)\ndf_data_1['Genital thrush'] = df_data_1['Genital thrush'].apply(lambda x: 1 if x == \"Yes\" else 2)\ndf_data_1['Visual blurring'] = df_data_1['Visual blurring'].apply(lambda x: 1 if x == \"Yes\" else 2)\ndf_data_1['Itching'] = df_data_1['Itching'].apply(lambda x: 1 if x == \"Yes\" else 2)\ndf_data_1['Irritability'] = df_data_1['Irritability'].apply(lambda x: 1 if x == \"Yes\" else 2)\ndf_data_1['Delayed healing'] = df_data_1['Delayed healing'].apply(lambda x: 1 if x == \"Yes\" else 2)\ndf_data_1['Partial paresis'] = df_data_1['Partial paresis'].apply(lambda x: 1 if x == \"Yes\" else 2)\ndf_data_1['Muscle stiffness'] = df_data_1['Muscle stiffness'].apply(lambda x: 1 if x == \"Yes\" else 2)\ndf_data_1['Alopecia'] = df_data_1['Alopecia'].apply(lambda x: 1 if x == \"Yes\" else 2)\ndf_data_1['Obesity'] = df_data_1['Obesity'].apply(lambda x: 1 if x == \"Yes\" else 2)\ndf_data_1['Class'] = df_data_1['Class'].apply(lambda x: 1 if x == \"Positive\" else 2)",
            "execution_count": 32,
            "outputs": []
        },
        {
            "metadata": {},
            "cell_type": "markdown",
            "source": "Let's check our data again."
        },
        {
            "metadata": {},
            "cell_type": "code",
            "source": "df_data_1.head()",
            "execution_count": 33,
            "outputs": [
                {
                    "output_type": "execute_result",
                    "execution_count": 33,
                    "data": {
                        "text/plain": "   Age  Gender  Polyuria  Polydipsia  Sudden weight loss  Weakness  \\\n0   40       1         2           1                   2         1   \n1   58       1         2           2                   2         1   \n2   41       1         1           2                   2         1   \n3   45       1         2           2                   1         1   \n4   60       1         1           1                   1         1   \n\n   Polyphagia  Genital thrush  Visual blurring  Itching  Irritability  \\\n0           2               2                2        1             2   \n1           2               2                1        2             2   \n2           1               2                2        1             2   \n3           1               1                2        1             2   \n4           1               2                1        1             1   \n\n   Delayed healing  Partial paresis  Muscle stiffness  Alopecia  Obesity  \\\n0                1                2                 1         1        1   \n1                2                1                 2         1        2   \n2                1                2                 1         1        2   \n3                1                2                 2         2        2   \n4                1                1                 1         1        1   \n\n   Class  \n0      1  \n1      1  \n2      1  \n3      1  \n4      1  ",
                        "text/html": "<div>\n<style scoped>\n    .dataframe tbody tr th:only-of-type {\n        vertical-align: middle;\n    }\n\n    .dataframe tbody tr th {\n        vertical-align: top;\n    }\n\n    .dataframe thead th {\n        text-align: right;\n    }\n</style>\n<table border=\"1\" class=\"dataframe\">\n  <thead>\n    <tr style=\"text-align: right;\">\n      <th></th>\n      <th>Age</th>\n      <th>Gender</th>\n      <th>Polyuria</th>\n      <th>Polydipsia</th>\n      <th>Sudden weight loss</th>\n      <th>Weakness</th>\n      <th>Polyphagia</th>\n      <th>Genital thrush</th>\n      <th>Visual blurring</th>\n      <th>Itching</th>\n      <th>Irritability</th>\n      <th>Delayed healing</th>\n      <th>Partial paresis</th>\n      <th>Muscle stiffness</th>\n      <th>Alopecia</th>\n      <th>Obesity</th>\n      <th>Class</th>\n    </tr>\n  </thead>\n  <tbody>\n    <tr>\n      <th>0</th>\n      <td>40</td>\n      <td>1</td>\n      <td>2</td>\n      <td>1</td>\n      <td>2</td>\n      <td>1</td>\n      <td>2</td>\n      <td>2</td>\n      <td>2</td>\n      <td>1</td>\n      <td>2</td>\n      <td>1</td>\n      <td>2</td>\n      <td>1</td>\n      <td>1</td>\n      <td>1</td>\n      <td>1</td>\n    </tr>\n    <tr>\n      <th>1</th>\n      <td>58</td>\n      <td>1</td>\n      <td>2</td>\n      <td>2</td>\n      <td>2</td>\n      <td>1</td>\n      <td>2</td>\n      <td>2</td>\n      <td>1</td>\n      <td>2</td>\n      <td>2</td>\n      <td>2</td>\n      <td>1</td>\n      <td>2</td>\n      <td>1</td>\n      <td>2</td>\n      <td>1</td>\n    </tr>\n    <tr>\n      <th>2</th>\n      <td>41</td>\n      <td>1</td>\n      <td>1</td>\n      <td>2</td>\n      <td>2</td>\n      <td>1</td>\n      <td>1</td>\n      <td>2</td>\n      <td>2</td>\n      <td>1</td>\n      <td>2</td>\n      <td>1</td>\n      <td>2</td>\n      <td>1</td>\n      <td>1</td>\n      <td>2</td>\n      <td>1</td>\n    </tr>\n    <tr>\n      <th>3</th>\n      <td>45</td>\n      <td>1</td>\n      <td>2</td>\n      <td>2</td>\n      <td>1</td>\n      <td>1</td>\n      <td>1</td>\n      <td>1</td>\n      <td>2</td>\n      <td>1</td>\n      <td>2</td>\n      <td>1</td>\n      <td>2</td>\n      <td>2</td>\n      <td>2</td>\n      <td>2</td>\n      <td>1</td>\n    </tr>\n    <tr>\n      <th>4</th>\n      <td>60</td>\n      <td>1</td>\n      <td>1</td>\n      <td>1</td>\n      <td>1</td>\n      <td>1</td>\n      <td>1</td>\n      <td>2</td>\n      <td>1</td>\n      <td>1</td>\n      <td>1</td>\n      <td>1</td>\n      <td>1</td>\n      <td>1</td>\n      <td>1</td>\n      <td>1</td>\n      <td>1</td>\n    </tr>\n  </tbody>\n</table>\n</div>"
                    },
                    "metadata": {}
                }
            ]
        },
        {
            "metadata": {},
            "cell_type": "code",
            "source": "df_data_1.dtypes.value_counts()",
            "execution_count": 34,
            "outputs": [
                {
                    "output_type": "execute_result",
                    "execution_count": 34,
                    "data": {
                        "text/plain": "int64    17\ndtype: int64"
                    },
                    "metadata": {}
                }
            ]
        },
        {
            "metadata": {},
            "cell_type": "markdown",
            "source": "Now all our data belongs to a binary numeric type and we can start modeling. Let's split the dataset into functions and the response we're going to predict. Let's assign the characteristics to the variable X, and the answer to the variable y."
        },
        {
            "metadata": {},
            "cell_type": "code",
            "source": "diabetes_mod = df_data_1\nfeature_names = ['Age', 'Gender', 'Polyuria', 'Polydipsia', 'Sudden weight loss',\n       'Weakness', 'Polyphagia', 'Genital thrush', 'Visual blurring',\n       'Itching', 'Irritability', 'Delayed healing', 'Partial paresis',\n       'Muscle stiffness', 'Alopecia', 'Obesity', 'Class']\nX = diabetes_mod[feature_names]\ny = diabetes_mod.Class",
            "execution_count": 35,
            "outputs": []
        },
        {
            "metadata": {},
            "cell_type": "markdown",
            "source": "Model selection or algorithm selection phase is the most exciting and the heart of machine learning. It is the phase where we select the model which performs best for the data set at hand.\n\nFirst, we will be calculating the \u201cClassification Accuracy (Testing Accuracy)\u201d of a given set of classification models with their default parameters to determine which model performs better with the diabetes data set.\n\nWe will import the necessary libraries for the notebook. We import 7 classifiers namely K-Nearest Neighbors, Support Vector Classifier, Logistic Regression, Gaussian Naive Bayes, Random Forest, and Gradient Boost to be contenders for the best classifier."
        },
        {
            "metadata": {},
            "cell_type": "code",
            "source": "from sklearn.neighbors import KNeighborsClassifier\nfrom sklearn.svm import SVC\nfrom sklearn.linear_model import LogisticRegression\nfrom sklearn.tree import DecisionTreeClassifier\nfrom sklearn.naive_bayes import GaussianNB\nfrom sklearn.ensemble import RandomForestClassifier\nfrom sklearn.ensemble import GradientBoostingClassifier\n\nfrom sklearn.model_selection import train_test_split\nfrom sklearn.model_selection import cross_val_score\nfrom sklearn.model_selection import StratifiedKFold\nfrom sklearn.metrics import accuracy_score",
            "execution_count": 36,
            "outputs": []
        },
        {
            "metadata": {},
            "cell_type": "markdown",
            "source": "We will initialize the classifier models with their default parameters and add them to a model list."
        },
        {
            "metadata": {},
            "cell_type": "code",
            "source": "models = []\n\nmodels.append(('KNN', KNeighborsClassifier()))\nmodels.append(('SVC', SVC(gamma='scale')))\nmodels.append(('LR', LogisticRegression(solver='lbfgs', max_iter=4000)))\nmodels.append(('DT', DecisionTreeClassifier()))\nmodels.append(('GNB', GaussianNB()))\nmodels.append(('RF', RandomForestClassifier(n_estimators=100)))\nmodels.append(('GB', GradientBoostingClassifier()))",
            "execution_count": 37,
            "outputs": []
        },
        {
            "metadata": {},
            "cell_type": "markdown",
            "source": "To avoid overfitting, I use two methods: training / test split and K-Fold cross validation. I will import \u201ctrain_test_split\u201d for train/test split and \u201ccross_val_score\u201d for k-fold cross-validation. \u201caccuracy_score\u201d is to evaluate the accuracy of the model in the train/test split method."
        },
        {
            "metadata": {},
            "cell_type": "code",
            "source": "from sklearn.model_selection import train_test_split",
            "execution_count": 38,
            "outputs": []
        },
        {
            "metadata": {},
            "cell_type": "markdown",
            "source": "Let's split our dataset into two parts: a training set and a testing set."
        },
        {
            "metadata": {},
            "cell_type": "code",
            "source": "X_train, X_test, y_train, y_test = train_test_split(X, y, stratify = diabetes_mod.Class, random_state=0)",
            "execution_count": 41,
            "outputs": []
        },
        {
            "metadata": {},
            "cell_type": "markdown",
            "source": "Then we put each model in a loop and calculate the accuracy of the corresponding model using \"precision_score\"."
        },
        {
            "metadata": {
                "scrolled": true
            },
            "cell_type": "code",
            "source": "names = []\nscores = []\n\nfor name, model in models:\n    model.fit(X_train, y_train)\n    y_pred = model.predict(X_test)\n    scores.append(accuracy_score(y_test, y_pred))\n    names.append(name)\n\ntr_split = pd.DataFrame({'Name': names, 'Score': scores})\nprint(tr_split)",
            "execution_count": 40,
            "outputs": [
                {
                    "output_type": "stream",
                    "text": "  Name     Score\n0  KNN  0.892308\n1  SVC  0.615385\n2   LR  1.000000\n3   DT  1.000000\n4  GNB  1.000000\n5   RF  1.000000\n6   GB  1.000000\n",
                    "name": "stdout"
                }
            ]
        },
        {
            "metadata": {},
            "cell_type": "markdown",
            "source": "We see indicators of separation accuracy in train/test.\n\nBut while the train / test split is useful because of its flexibility and speed, its disadvantage is the high variance in the out-of-sample accuracy estimate."
        },
        {
            "metadata": {},
            "cell_type": "markdown",
            "source": "Let's try K-Fold cross validation now. \n\nThis method splits the dataset into K equal sections (\"folds\"), then uses 1 fold as the test set, and concatenates the other folds as the training set. The model is then checked for accuracy. The process will repeat the above steps K times, each time using a different fold as a test kit. The average accuracy of the testing process is the accuracy of testing.\n\nWe will move forward with K-Fold cross validation as it is more accurate and use the data efficiently. We will train the models using 10 fold cross validation and calculate the mean accuracy of the models. \u201ccross_val_score\u201d provides its own training and accuracy calculation interface.\n\nTrain the models using 10-fold cross-validation and calculate the average accuracy of the models. Cross_val_score provides its own interface for training and calculating accuracy."
        },
        {
            "metadata": {},
            "cell_type": "code",
            "source": "strat_k_fold = StratifiedKFold(n_splits=10, random_state=10)\n\nnames = []\nscores = []\n\nfor name, model in models:\n    \n    score = cross_val_score(model, X, y, cv=strat_k_fold, scoring='accuracy').mean()\n    names.append(name)\n    scores.append(score)\n\nkf_cross_val = pd.DataFrame({'Name': names, 'Score': scores})\nprint(kf_cross_val)",
            "execution_count": 42,
            "outputs": [
                {
                    "output_type": "stream",
                    "text": "  Name     Score\n0  KNN  0.919231\n1  SVC  0.615385\n2   LR  1.000000\n3   DT  1.000000\n4  GNB  1.000000\n5   RF  1.000000\n6   GB  1.000000\n",
                    "name": "stdout"
                }
            ]
        },
        {
            "metadata": {},
            "cell_type": "markdown",
            "source": "We see the K-cross validation accuracy metrics. The advantages of this method are more accurate estimation of out-of-sample accuracy, as well as more \"efficient\" use of data (each observation is used for both training and testing). The downside is that this method is much slower than the train/test split.\n\nThis method is preferable to use where the computing power is not limited."
        },
        {
            "metadata": {},
            "cell_type": "markdown",
            "source": "We can build precision estimates using seaborn."
        },
        {
            "metadata": {
                "scrolled": true
            },
            "cell_type": "code",
            "source": "axis = sns.barplot(x = 'Name', y = 'Score', data = kf_cross_val)\naxis.set(xlabel='Classifier', ylabel='Accuracy')\n\nfor p in axis.patches:\n    height = p.get_height()\n    axis.text(p.get_x() + p.get_width()/2, height + 0.005, '{:1.4f}'.format(height), ha=\"center\") \n    \nplt.show()",
            "execution_count": 43,
            "outputs": [
                {
                    "output_type": "display_data",
                    "data": {
                        "text/plain": "<Figure size 432x288 with 1 Axes>",
                        "image/png": "[encoded data removed]"
                    },
                    "metadata": {
                        "needs_background": "light"
                    }
                }
            ]
        },
        {
            "metadata": {},
            "cell_type": "markdown",
            "source": "We can see the Logistic Regression, Gaussian Naive Bayes, Random Forest and Gradient Boosting have performed better than the rest. From the base level we can observe that the Logistic Regression performs better than the other algorithms.\n\nBasic Logistic Regression, Gaussian Naive Bayesian Analysis, Random Forest and Gradient Improvement, Gaussian Naive Bayesian Analysis, Random Forest, and Gradient Improvement achieved a classification accuracy of 100%. Logistic Regression will be chosen as the main candidate for the next steps."
        },
        {
            "metadata": {},
            "cell_type": "markdown",
            "source": "Let's go back to developing features. \n\nSometimes there are features that don't improve the model. Such cases can be found by further analysis of the features related to the model. Therefore we will be analyzing the selected model which is Logistic Regression, and how feature importance affects it.\n\nScikit Learn provided useful methods by which we can do feature selection and find out the importance of features which affect the model.\n\n   1. Univariate Feature Selection: Statistical tests can be used to select those features that have the strongest relationship with the output variable.\n\n   2. Recursive Feature Elimination: The Recursive Feature Elimination (or RFE) works by recursively removing attributes and building a model on those attributes that remain. It uses the model accuracy to identify which attributes (and combination of attributes) contribute the most to predicting the target attribute.\n   3. Principal Component Analysis: Principal Component Analysis (or PCA) uses linear algebra to transform the dataset into a compressed form. Generally this is called a data reduction technique. A property of PCA is that you can choose the number of dimensions or principal component in the transformed result.\n   4. Feature Importance: Bagged decision trees like Random Forest and Extra Trees can be used to estimate the importance of features.\n   \nI will be using Recursive Feature Elimination as the feature selection method. First I import RFECV, which comes with inbuilt cross validation feature. Same as the classifier model, RFECV has the fit() method which accepts features and the response/target."
        },
        {
            "metadata": {},
            "cell_type": "code",
            "source": "from sklearn.feature_selection import RFECV",
            "execution_count": 44,
            "outputs": []
        },
        {
            "metadata": {
                "scrolled": true
            },
            "cell_type": "code",
            "source": "logreg_model = LogisticRegression(solver='lbfgs', max_iter=4000)\n\nrfecv = RFECV(estimator=logreg_model, step=1, cv=strat_k_fold, scoring='accuracy')\nrfecv.fit(X, y)",
            "execution_count": 47,
            "outputs": [
                {
                    "output_type": "execute_result",
                    "execution_count": 47,
                    "data": {
                        "text/plain": "RFECV(cv=StratifiedKFold(n_splits=10, random_state=10, shuffle=False),\n   estimator=LogisticRegression(C=1.0, class_weight=None, dual=False, fit_intercept=True,\n          intercept_scaling=1, max_iter=4000, multi_class='warn',\n          n_jobs=None, penalty='l2', random_state=None, solver='lbfgs',\n          tol=0.0001, verbose=0, warm_start=False),\n   min_features_to_select=1, n_jobs=None, scoring='accuracy', step=1,\n   verbose=0)"
                    },
                    "metadata": {}
                }
            ]
        },
        {
            "metadata": {},
            "cell_type": "markdown",
            "source": "After fitting, it exposes an attribute grid_scores_ which returns a list of accuracy scores for each of the features selected. We can use that to plot a graph to see the no of features which gives the maximum accuracy for the given model."
        },
        {
            "metadata": {
                "scrolled": true
            },
            "cell_type": "code",
            "source": "plt.figure()\nplt.title('Logistic Regression CV score vs No of Features')\nplt.xlabel(\"Number of features selected\")\nplt.ylabel(\"Cross validation score (nb of correct classifications)\")\nplt.plot(range(1, len(rfecv.grid_scores_) + 1), rfecv.grid_scores_)\nplt.show()",
            "execution_count": 48,
            "outputs": [
                {
                    "output_type": "display_data",
                    "data": {
                        "text/plain": "<Figure size 432x288 with 1 Axes>",
                        "image/png": "[encoded data removed]"
                    },
                    "metadata": {
                        "needs_background": "light"
                    }
                }
            ]
        },
        {
            "metadata": {},
            "cell_type": "markdown",
            "source": "The choice of characteristics is primarily aimed at removing uninformative or redundant predictors from the model. Looking at the graph, we see that no matter how many characteristics we take, in this case it does not affect the accuracy estimate."
        },
        {
            "metadata": {},
            "cell_type": "markdown",
            "source": "The next step is to configure the parameters of the model. Scikit Learn provides the model with sensible default parameters which gives decent accuracy scores. It also provides the user with the option to tweak the parameters to further increase the accuracy. But given that our dataset, as the logistic regression function importance graph shows, is a set of precise characteristics, we do not need to tweak the parameters to further improve accuracy."
        },
        {
            "metadata": {},
            "cell_type": "markdown",
            "source": "### Conclusion"
        },
        {
            "metadata": {},
            "cell_type": "markdown",
            "source": "In this study, I have provided my understanding of data science methodology, applying it to the early diagnosis of diabetes. Consecutively, I went through a number of stages:\n   1. Described a problem related to my chosen topic.\n   2. Formulated the problem as a question to be answered using data.\n   3. Used an analytical approach.\n   4. Passed the stage of data requirements and information collection.\n   5. Studied and prepared data for research.\n   6. Carried out modeling and evaluation of these data."
        }
    ],
    "metadata": {
        "kernelspec": {
            "name": "python3",
            "display_name": "Python 3.6",
            "language": "python"
        },
        "language_info": {
            "name": "python",
            "version": "3.6.9",
            "mimetype": "text/x-python",
            "codemirror_mode": {
                "name": "ipython",
                "version": 3
            },
            "pygments_lexer": "ipython3",
            "nbconvert_exporter": "python",
            "file_extension": ".py"
        }
    },
    "nbformat": 4,
    "nbformat_minor": 1
}